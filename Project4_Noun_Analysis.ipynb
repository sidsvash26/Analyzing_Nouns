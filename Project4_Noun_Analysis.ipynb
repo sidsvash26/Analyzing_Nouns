{
 "cells": [
  {
   "cell_type": "markdown",
   "metadata": {},
   "source": [
    "# Analyzing Nouns\n",
    "\n",
    "Project 4: Data Science for Linguistics\n"
   ]
  },
  {
   "cell_type": "code",
   "execution_count": 1,
   "metadata": {},
   "outputs": [
    {
     "name": "stderr",
     "output_type": "stream",
     "text": [
      "/Users/sidvash/anaconda/lib/python3.6/site-packages/h5py/__init__.py:34: FutureWarning: Conversion of the second argument of issubdtype from `float` to `np.floating` is deprecated. In future, it will be treated as `np.float64 == np.dtype(float).type`.\n",
      "  from ._conv import register_converters as _register_converters\n",
      "Using TensorFlow backend.\n"
     ]
    }
   ],
   "source": [
    "import keras\n",
    "from sklearn import svm\n",
    "import pandas as pd\n",
    "import numpy as np\n",
    "import matplotlib.pyplot as plt\n",
    "import seaborn as sns\n",
    "from sklearn.feature_selection import SelectKBest, VarianceThreshold\n",
    "from sklearn.feature_selection import chi2, f_classif\n",
    "from sklearn import svm, datasets, feature_selection\n",
    "from sklearn.model_selection import cross_val_score\n",
    "from sklearn.pipeline import Pipeline\n",
    "from sklearn.preprocessing import StandardScaler\n",
    "\n",
    "#Remove warnings:\n",
    "import warnings\n",
    "warnings.filterwarnings(\"ignore\")\n",
    "#warnings.simplefilter(action='ignore', category=FutureWarning)\n",
    "#import h5py\n",
    "#warnings.resetwarnings()"
   ]
  },
  {
   "cell_type": "markdown",
   "metadata": {},
   "source": [
    "# Clasification:\n",
    "\n",
    "## 1. Predicting Countability of a Noun"
   ]
  },
  {
   "cell_type": "code",
   "execution_count": 2,
   "metadata": {
    "collapsed": true
   },
   "outputs": [],
   "source": [
    "noun_df = pd.read_csv(\"noun_distributional_information.csv\")\n",
    "noun_df['countable_bool'] = noun_df['countable'].map({'Y': 1, 'N': 0})"
   ]
  },
  {
   "cell_type": "code",
   "execution_count": 3,
   "metadata": {},
   "outputs": [
    {
     "data": {
      "text/plain": [
       "(18264, 227)"
      ]
     },
     "execution_count": 3,
     "metadata": {},
     "output_type": "execute_result"
    }
   ],
   "source": [
    "noun_df.shape"
   ]
  },
  {
   "cell_type": "markdown",
   "metadata": {},
   "source": [
    "#### Select only the numeric features"
   ]
  },
  {
   "cell_type": "code",
   "execution_count": 4,
   "metadata": {},
   "outputs": [
    {
     "name": "stdout",
     "output_type": "stream",
     "text": [
      "Shape of numeric data: (18264, 209)\n"
     ]
    }
   ],
   "source": [
    "df_numeric = noun_df.select_dtypes(include=[np.number])\n",
    "X = df_numeric.drop('countable_bool', axis=1)\n",
    "feats = list(X.columns)\n",
    "y = noun_df.countable_bool\n",
    "\n",
    "print(\"Shape of numeric data: {}\".format(X.shape))"
   ]
  },
  {
   "cell_type": "markdown",
   "metadata": {},
   "source": [
    "#### Raw distribution of Countable Nouns"
   ]
  },
  {
   "cell_type": "code",
   "execution_count": 5,
   "metadata": {},
   "outputs": [
    {
     "data": {
      "image/png": "[encoded data removed]",
      "text/plain": [
       "<matplotlib.figure.Figure at 0x12a542898>"
      ]
     },
     "metadata": {},
     "output_type": "display_data"
    },
    {
     "name": "stdout",
     "output_type": "stream",
     "text": [
      "Distribution\n",
      "1    0.723226\n",
      "0    0.276774\n",
      "Name: countable_bool, dtype: float64\n"
     ]
    }
   ],
   "source": [
    "sns.countplot(x='countable_bool', data=noun_df)\n",
    "plt.title(\"Distribution of countable Nouns\")\n",
    "plt.show()\n",
    "print(\"Distribution\")\n",
    "print(noun_df.countable_bool.value_counts(normalize=True))"
   ]
  },
  {
   "cell_type": "markdown",
   "metadata": {},
   "source": [
    "### Data Pre-processing:\n",
    "#### Check for Missing Values"
   ]
  },
  {
   "cell_type": "code",
   "execution_count": 6,
   "metadata": {},
   "outputs": [
    {
     "name": "stdout",
     "output_type": "stream",
     "text": [
      "None of the rows have missing values\n"
     ]
    }
   ],
   "source": [
    "if df_numeric.isnull().values.any():\n",
    "    print(\"Features have missing values\")\n",
    "else:\n",
    "    print(\"None of the rows have missing values\")"
   ]
  },
  {
   "cell_type": "markdown",
   "metadata": {},
   "source": [
    "#### Number of features with constant values"
   ]
  },
  {
   "cell_type": "code",
   "execution_count": 7,
   "metadata": {},
   "outputs": [
    {
     "name": "stdout",
     "output_type": "stream",
     "text": [
      "Number of constant features: 38\n",
      "\n",
      "Features with constant values:\n",
      "['Verb Negation Count', 'Verb Negation Percentage', 'An Percentage', 'Any Count', 'Any Percentage', 'Both Count', 'Both Percentage', 'Certain Count', 'Certain Percentage', 'Each Count', 'Each Percentage', 'Either Count', 'Either Percentage', 'Enough Percentage', 'Neither Count', 'Neither Percentage', 'Said Count', 'Said Percentage', 'Several Percentage', 'Such Count', 'Such Percentage', 'Sufficient Count', 'Sufficient Percentage', 'This Percentage', 'Various Count', 'Various Percentage', 'We Count', 'We Percentage', 'Whatever Count', 'Whatever Percentage', 'Whatsoever Count', 'Whatsoever Percentage', 'What Percentage', 'Whichever Count', 'Whichever Percentage', 'Which Count', 'Which Percentage', 'You Percentage']\n"
     ]
    }
   ],
   "source": [
    "const_feat = (np.std(X, axis=0) == 0)\n",
    "print(\"Number of constant features: {}\\n\".format(sum(const_feat)))\n",
    "const_idxs = list(np.where(const_feat)[0])\n",
    "const_feat_names = [feats[idx] for idx in const_idxs]\n",
    "print(\"Features with constant values:\")\n",
    "print(const_feat_names)"
   ]
  },
  {
   "cell_type": "markdown",
   "metadata": {},
   "source": [
    "#### Remove features with constant values"
   ]
  },
  {
   "cell_type": "code",
   "execution_count": 8,
   "metadata": {},
   "outputs": [
    {
     "name": "stdout",
     "output_type": "stream",
     "text": [
      "Updated number of features: (18264, 171)\n"
     ]
    }
   ],
   "source": [
    "X = X.drop(const_feat_names, axis=1)\n",
    "\n",
    "print(\"Updated number of features: {}\".format(X.shape))"
   ]
  },
  {
   "cell_type": "markdown",
   "metadata": {},
   "source": [
    "### Classification Using Support Vector Machines:\n",
    "\n",
    "#### SVM-Anova: SVM with univariate feature selection¶"
   ]
  },
  {
   "cell_type": "markdown",
   "metadata": {},
   "source": [
    "#### Create a feature-selection transform and an instance of SVM that we combine together to have an full-blown estimator"
   ]
  },
  {
   "cell_type": "code",
   "execution_count": 9,
   "metadata": {
    "collapsed": true
   },
   "outputs": [],
   "source": [
    "transform = feature_selection.SelectPercentile(feature_selection.f_classif)"
   ]
  },
  {
   "cell_type": "markdown",
   "metadata": {},
   "source": [
    "We create a pipeline which takes the following actions:\n",
    "- Normalizes the features\n",
    "- Removes variables with zero variance\n",
    "- Anova transformation : Pick variables based on best Anova F-value \n",
    "- Predict countability using SVM with rbf kernels!"
   ]
  },
  {
   "cell_type": "code",
   "execution_count": 10,
   "metadata": {},
   "outputs": [],
   "source": [
    "clf = Pipeline([('scaler', StandardScaler()), ('var_thresh', VarianceThreshold()), \n",
    "                ('anova', transform), ('svc', svm.SVC(C=1.0, kernel='rbf'))])"
   ]
  },
  {
   "cell_type": "code",
   "execution_count": 11,
   "metadata": {},
   "outputs": [
    {
     "name": "stdout",
     "output_type": "stream",
     "text": [
      "Mean Accuracy at 1 percentile of features selection: 0.8229848443371575\n",
      "Mean Accuracy at 10 percentile of features selection: 0.8504160184025553\n",
      "Mean Accuracy at 20 percentile of features selection: 0.8551796614824527\n",
      "Mean Accuracy at 30 percentile of features selection: 0.8601074182002879\n",
      "Mean Accuracy at 40 percentile of features selection: 0.8612570681901385\n",
      "Mean Accuracy at 60 percentile of features selection: 0.8609831856605428\n",
      "Mean Accuracy at 80 percentile of features selection: 0.8603262363842049\n",
      "Mean Accuracy at 100 percentile of features selection: 0.8592860104779669\n"
     ]
    }
   ],
   "source": [
    "# #############################################################################\n",
    "# Plot the cross-validation score as a function of percentile of features\n",
    "score_means = list()\n",
    "score_stds = list()\n",
    "percentiles = (1, 10, 20, 30, 40, 60, 80, 100)\n",
    "for percentile in percentiles:\n",
    "    clf.set_params(anova__percentile=percentile)\n",
    "    # Compute cross-validation score using 1 CPU\n",
    "    this_scores = cross_val_score(clf, X, y, cv=5, n_jobs=1)\n",
    "    print(\"Mean Accuracy at {} percentile of features selection: {}\".format(percentile, this_scores.mean()))\n",
    "    score_means.append(this_scores.mean())\n",
    "    score_stds.append(this_scores.std())"
   ]
  },
  {
   "cell_type": "code",
   "execution_count": 12,
   "metadata": {},
   "outputs": [
    {
     "data": {
      "image/png": "[encoded data removed]",
      "text/plain": [
       "<matplotlib.figure.Figure at 0x111678d68>"
      ]
     },
     "metadata": {},
     "output_type": "display_data"
    }
   ],
   "source": [
    "#Plot the graph of accuracies:\n",
    "plt.errorbar(percentiles, score_means, np.array(score_stds))\n",
    "plt.title('Performance of the SVM-Anova varying the percentile of features selected')\n",
    "plt.xlabel('Percentile')\n",
    "plt.ylabel('Prediction rate')\n",
    "plt.axis('tight')\n",
    "plt.show()"
   ]
  },
  {
   "cell_type": "markdown",
   "metadata": {},
   "source": [
    "#### Plot with F1 score"
   ]
  },
  {
   "cell_type": "code",
   "execution_count": 13,
   "metadata": {},
   "outputs": [
    {
     "name": "stdout",
     "output_type": "stream",
     "text": [
      "Mean F1 score at 1 percentile of features selection: 0.7783816196352795\n",
      "Mean F1 score at 10 percentile of features selection: 0.8149918095167333\n",
      "Mean F1 score at 20 percentile of features selection: 0.8218697970427025\n",
      "Mean F1 score at 30 percentile of features selection: 0.8273787033712813\n",
      "Mean F1 score at 40 percentile of features selection: 0.8285421652514943\n",
      "Mean F1 score at 60 percentile of features selection: 0.82760307679721\n",
      "Mean F1 score at 80 percentile of features selection: 0.8267281059998342\n",
      "Mean F1 score at 100 percentile of features selection: 0.8251797403424526\n"
     ]
    }
   ],
   "source": [
    "score_means = list()\n",
    "score_stds = list()\n",
    "percentiles = (1, 10, 20, 30, 40, 60, 80, 100)\n",
    "for percentile in percentiles:\n",
    "    clf.set_params(anova__percentile=percentile)\n",
    "    # Compute cross-validation score using 1 CPU\n",
    "    this_scores = cross_val_score(clf, X, y, n_jobs=1, cv=5, scoring='f1_macro')\n",
    "    print(\"Mean F1 score at {} percentile of features selection: {}\".format(percentile, this_scores.mean()))\n",
    "    score_means.append(this_scores.mean())\n",
    "    score_stds.append(this_scores.std())\n"
   ]
  },
  {
   "cell_type": "code",
   "execution_count": 14,
   "metadata": {},
   "outputs": [
    {
     "data": {
      "image/png": "[encoded data removed]",
      "text/plain": [
       "<matplotlib.figure.Figure at 0x12af47ac8>"
      ]
     },
     "metadata": {},
     "output_type": "display_data"
    }
   ],
   "source": [
    "plt.errorbar(percentiles, score_means, np.array(score_stds))\n",
    "plt.title('Performance of the SVM-Anova varying the percentile of features selected')\n",
    "plt.xlabel('Percentile')\n",
    "plt.ylabel('F1 score')\n",
    "plt.axis('tight')\n",
    "plt.show()"
   ]
  },
  {
   "cell_type": "markdown",
   "metadata": {},
   "source": [
    "Even though the actual distrubtion was 70-30. We see that our model is robust as it does similar on both F1 score and raw accuracy. It is seen that highest metric is achieved with 40 percentile of features. That implies that reducing the number of features does help in predicting the countability."
   ]
  },
  {
   "cell_type": "markdown",
   "metadata": {},
   "source": [
    "#### The Top Features"
   ]
  },
  {
   "cell_type": "code",
   "execution_count": 15,
   "metadata": {},
   "outputs": [
    {
     "name": "stdout",
     "output_type": "stream",
     "text": [
      "Index(['NN Percentage', 'NNS Percentage', 'Plural Noun Percentage',\n",
      "       'Singular Noun Percentage', 'Bare Plural Noun Percentage',\n",
      "       'Bare Singular Noun Percentage', 'Determiner Percentage',\n",
      "       'Denumerator Percentage', 'A N Percentage',\n",
      "       'Sing Subj Plu V Percentage'],\n",
      "      dtype='object')\n"
     ]
    }
   ],
   "source": [
    "selector = SelectKBest(f_classif, k=10)\n",
    "selector.fit(X, y)\n",
    "\n",
    "# Get idxs of columns to keep\n",
    "idxs_selected = selector.get_support(indices=True)\n",
    "\n",
    "# Create new dataframe with only desired columns, or overwrite existing\n",
    "X_new = X[X.columns[idxs_selected]]\n",
    "\n",
    "print(X_new.columns)"
   ]
  },
  {
   "cell_type": "markdown",
   "metadata": {},
   "source": [
    "The best two features that seem to predict Countability of Nouns are:\n",
    "    - Bare Singular Noun Percentage\n",
    "    - Plural Noun Percentage\n",
    "\n",
    "Let's look at the boxplots of some of the top 10 features to see if this result gives us some intuition about the result"
   ]
  },
  {
   "cell_type": "code",
   "execution_count": 16,
   "metadata": {},
   "outputs": [
    {
     "data": {
      "image/png": "[encoded data removed]",
      "text/plain": [
       "<matplotlib.figure.Figure at 0x1116547f0>"
      ]
     },
     "metadata": {},
     "output_type": "display_data"
    }
   ],
   "source": [
    "fig, axs = plt.subplots(ncols=4, nrows=1, figsize=(16, 6), squeeze=False)\n",
    "sns.boxplot(x=\"countable\", y='Bare Singular Noun Percentage', data=noun_df, ax=axs[0,0])\n",
    "sns.boxplot(x=\"countable\", y='Determiner Percentage', data=noun_df, ax=axs[0,1])\n",
    "sns.boxplot(x=\"countable\", y='NNS Percentage', data=noun_df, ax=axs[0,2])\n",
    "sns.boxplot(x=\"countable\", y='Denumerator Percentage', data=noun_df, ax=axs[0,3])\n",
    "plt.show()"
   ]
  },
  {
   "cell_type": "markdown",
   "metadata": {},
   "source": [
    "## 2. Predicting Most likely Adjective Type for a Noun"
   ]
  },
  {
   "cell_type": "code",
   "execution_count": 18,
   "metadata": {},
   "outputs": [],
   "source": [
    "adj_types = ['Adjtype: Behavior Avg', 'Adjtype: Body Avg', 'Adjtype: Feeling Avg', 'Adjtype: Mind Avg',\n",
    "            'Adjtype: Miscellaneous Avg', 'Adjtype: Motion Avg', 'Adjtype: Perception Avg',\n",
    "            'Adjtype: Quantity Avg','Adjtype: Social Avg','Adjtype: Spatial Avg','Adjtype: Substance Avg',\n",
    "            'Adjtype: Temporal Avg','Adjtype: Weather Avg']\n",
    "\n",
    "X_new = df_numeric.drop(const_feat_names + adj_types, axis=1) "
   ]
  },
  {
   "cell_type": "code",
   "execution_count": 22,
   "metadata": {},
   "outputs": [
    {
     "data": {
      "text/html": [
       "<div>\n",
       "<style>\n",
       "    .dataframe thead tr:only-child th {\n",
       "        text-align: right;\n",
       "    }\n",
       "\n",
       "    .dataframe thead th {\n",
       "        text-align: left;\n",
       "    }\n",
       "\n",
       "    .dataframe tbody tr th {\n",
       "        vertical-align: top;\n",
       "    }\n",
       "</style>\n",
       "<table border=\"1\" class=\"dataframe\">\n",
       "  <thead>\n",
       "    <tr style=\"text-align: right;\">\n",
       "      <th></th>\n",
       "      <th>Noun</th>\n",
       "      <th>Adj_Max</th>\n",
       "    </tr>\n",
       "  </thead>\n",
       "  <tbody>\n",
       "    <tr>\n",
       "      <th>4031</th>\n",
       "      <td>dragonfly</td>\n",
       "      <td>Adjtype: Spatial Avg</td>\n",
       "    </tr>\n",
       "    <tr>\n",
       "      <th>11055</th>\n",
       "      <td>passionflower</td>\n",
       "      <td>Adjtype: Perception Avg</td>\n",
       "    </tr>\n",
       "    <tr>\n",
       "      <th>4902</th>\n",
       "      <td>eyestrain</td>\n",
       "      <td>Adjtype: Quantity Avg</td>\n",
       "    </tr>\n",
       "    <tr>\n",
       "      <th>13290</th>\n",
       "      <td>retriever</td>\n",
       "      <td>Adjtype: Perception Avg</td>\n",
       "    </tr>\n",
       "    <tr>\n",
       "      <th>17200</th>\n",
       "      <td>undoing</td>\n",
       "      <td>Adjtype: Temporal Avg</td>\n",
       "    </tr>\n",
       "    <tr>\n",
       "      <th>13265</th>\n",
       "      <td>resumption</td>\n",
       "      <td>Adjtype: Miscellaneous Avg</td>\n",
       "    </tr>\n",
       "    <tr>\n",
       "      <th>8008</th>\n",
       "      <td>johnson</td>\n",
       "      <td>Adjtype: Behavior Avg</td>\n",
       "    </tr>\n",
       "    <tr>\n",
       "      <th>10403</th>\n",
       "      <td>nylons</td>\n",
       "      <td>Adjtype: Perception Avg</td>\n",
       "    </tr>\n",
       "    <tr>\n",
       "      <th>14847</th>\n",
       "      <td>sniffle</td>\n",
       "      <td>Adjtype: Quantity Avg</td>\n",
       "    </tr>\n",
       "    <tr>\n",
       "      <th>13214</th>\n",
       "      <td>reserve</td>\n",
       "      <td>Adjtype: Spatial Avg</td>\n",
       "    </tr>\n",
       "  </tbody>\n",
       "</table>\n",
       "</div>"
      ],
      "text/plain": [
       "                Noun                     Adj_Max\n",
       "4031       dragonfly        Adjtype: Spatial Avg\n",
       "11055  passionflower     Adjtype: Perception Avg\n",
       "4902       eyestrain       Adjtype: Quantity Avg\n",
       "13290      retriever     Adjtype: Perception Avg\n",
       "17200        undoing       Adjtype: Temporal Avg\n",
       "13265     resumption  Adjtype: Miscellaneous Avg\n",
       "8008         johnson       Adjtype: Behavior Avg\n",
       "10403         nylons     Adjtype: Perception Avg\n",
       "14847        sniffle       Adjtype: Quantity Avg\n",
       "13214        reserve        Adjtype: Spatial Avg"
      ]
     },
     "execution_count": 22,
     "metadata": {},
     "output_type": "execute_result"
    }
   ],
   "source": [
    "noun_df['Adj_Max'] = noun_df[adj_types].idxmax(axis=1)\n",
    "\n",
    "#A sample of what this looks like\n",
    "noun_df[['Noun', 'Adj_Max']].sample(10)"
   ]
  },
  {
   "cell_type": "code",
   "execution_count": null,
   "metadata": {},
   "outputs": [],
   "source": [
    "#Work In Progress"
   ]
  },
  {
   "cell_type": "markdown",
   "metadata": {},
   "source": [
    "## 3. Clustering the data"
   ]
  },
  {
   "cell_type": "code",
   "execution_count": null,
   "metadata": {
    "collapsed": true
   },
   "outputs": [],
   "source": [
    "#Work In Progress"
   ]
  }
 ],
 "metadata": {
  "kernelspec": {
   "display_name": "Python 3",
   "language": "python",
   "name": "python3"
  },
  "language_info": {
   "codemirror_mode": {
    "name": "ipython",
    "version": 3
   },
   "file_extension": ".py",
   "mimetype": "text/x-python",
   "name": "python",
   "nbconvert_exporter": "python",
   "pygments_lexer": "ipython3",
   "version": "3.6.1"
  }
 },
 "nbformat": 4,
 "nbformat_minor": 2
}
